{
 "cells": [
  {
   "cell_type": "markdown",
   "metadata": {},
   "source": [
    "# TECH 2 mandatory assignment - Part B\n",
    "\n",
    "Write your solution for Part B in this notebook."
   ]
  },
  {
   "cell_type": "code",
   "execution_count": 1,
   "metadata": {},
   "outputs": [
    {
     "name": "stdout",
     "output_type": "stream",
     "text": [
      "0.2823721097353601\n",
      "0.28237210973536014\n",
      "0.28237210973536014\n",
      "0.28237210973536014\n"
     ]
    }
   ],
   "source": [
    "# I import the functions needed\n",
    "\n",
    "import pandas as pd\n",
    "from pandas import *\n",
    "import random, csv\n",
    "import numpy as np\n",
    "from part_A import std_loops, std_builtin, std_numpy\n",
    "\n",
    "# I read the csv-file from the assignment\n",
    "df = pd.read_csv(\"data.csv\")\n",
    "\n",
    "# Earlier print-function to check if program was working properly\n",
    "#print(df.to_string()) \n",
    "\n",
    "column = df[\"0.6823518632481435\"].tolist()\n",
    "column.insert(0, 0.6823518632481435)\n",
    "\n",
    "column_nr_100 = column[:100]\n",
    "\n",
    "print(std_loops(column_nr_100))\n",
    "print(std_builtin(column_nr_100))\n",
    "print(std_numpy(column_nr_100))\n",
    "print(np.std(column_nr_100))\n"
   ]
  },
  {
   "cell_type": "code",
   "execution_count": 2,
   "metadata": {},
   "outputs": [
    {
     "name": "stdout",
     "output_type": "stream",
     "text": [
      "7.54 μs ± 14.2 ns per loop (mean ± std. dev. of 7 runs, 100,000 loops each)\n"
     ]
    }
   ],
   "source": [
    "%timeit std_loops(column_nr_100)"
   ]
  },
  {
   "cell_type": "code",
   "execution_count": 3,
   "metadata": {},
   "outputs": [
    {
     "name": "stdout",
     "output_type": "stream",
     "text": [
      "8.22 μs ± 57.3 ns per loop (mean ± std. dev. of 7 runs, 100,000 loops each)\n"
     ]
    }
   ],
   "source": [
    "%timeit std_builtin(column_nr_100)"
   ]
  },
  {
   "cell_type": "code",
   "execution_count": 4,
   "metadata": {},
   "outputs": [
    {
     "name": "stdout",
     "output_type": "stream",
     "text": [
      "9.88 μs ± 93.3 ns per loop (mean ± std. dev. of 7 runs, 100,000 loops each)\n"
     ]
    }
   ],
   "source": [
    "%timeit (std_numpy(column_nr_100))"
   ]
  },
  {
   "cell_type": "code",
   "execution_count": 5,
   "metadata": {},
   "outputs": [
    {
     "name": "stdout",
     "output_type": "stream",
     "text": [
      "9.82 μs ± 64.1 ns per loop (mean ± std. dev. of 7 runs, 100,000 loops each)\n"
     ]
    }
   ],
   "source": [
    "%timeit (np.std(column_nr_100))"
   ]
  },
  {
   "cell_type": "code",
   "execution_count": 6,
   "metadata": {},
   "outputs": [],
   "source": [
    "# After trying out the functions, this was the results:\n",
    "# std_loops: 16.8 μs ± 4.77 μs per loop (mean ± std. dev. of 7 runs, 100,000 loops each)\n",
    "# std_builtin: 24.7 μs ± 5.78 μs per loop (mean ± std. dev. of 7 runs, 100,000 loops each)\n",
    "# std_numpy: 16 μs ± 1.69 μs per loop (mean ± std. dev. of 7 runs, 10,000 loops each)\n",
    "# np.std: 9.99 μs ± 33.5 ns per loop (mean ± std. dev. of 7 runs, 100,000 loops each)"
   ]
  },
  {
   "cell_type": "code",
   "execution_count": 7,
   "metadata": {},
   "outputs": [
    {
     "name": "stdout",
     "output_type": "stream",
     "text": [
      "876 ns ± 13.2 ns per loop (mean ± std. dev. of 7 runs, 1,000,000 loops each)\n",
      "1.2 μs ± 11.2 ns per loop (mean ± std. dev. of 7 runs, 1,000,000 loops each)\n",
      "8.24 μs ± 148 ns per loop (mean ± std. dev. of 7 runs, 100,000 loops each)\n"
     ]
    }
   ],
   "source": [
    "# I try testing the functions with a smaller sample size\n",
    "small_sample = [1, 2, 3, 4, 5, 6, 7, 8, 9, 10]\n",
    "\n",
    "%timeit (std_loops(small_sample))\n",
    "%timeit (std_builtin(small_sample))\n",
    "%timeit (np.std(small_sample))"
   ]
  }
 ],
 "metadata": {
  "kernelspec": {
   "display_name": "Python 3",
   "language": "python",
   "name": "python3"
  },
  "language_info": {
   "codemirror_mode": {
    "name": "ipython",
    "version": 3
   },
   "file_extension": ".py",
   "mimetype": "text/x-python",
   "name": "python",
   "nbconvert_exporter": "python",
   "pygments_lexer": "ipython3",
   "version": "3.12.4"
  }
 },
 "nbformat": 4,
 "nbformat_minor": 2
}
